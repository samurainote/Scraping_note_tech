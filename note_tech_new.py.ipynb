{
 "cells": [
  {
   "cell_type": "code",
   "execution_count": null,
   "metadata": {},
   "outputs": [],
   "source": [
    "import pandas as pd\n",
    "from bs4 import BeautifulSoup\n",
    "import requests\n",
    "\n",
    "Tech_articles = {}\n",
    "article_no = 0\n",
    "\n",
    "url = \"https://note.mu/categories/tech\"\n",
    "\n",
    "while True:\n",
    "\n",
    "    response = requests.get(url)\n",
    "    data = response.text\n",
    "    soup = BeautifulSoup(data, \"html.parser\")\n",
    "    all_infos = soup.find_all(\"div\", {\"class\":\"feeds\"})\n",
    "\n",
    "    for all_info in all_infos:\n",
    "\n",
    "        title = all_info.find(\"span\", attrs={\"ng-bind-html\":\"note.name\"}).text\n",
    "        user = all_info.find(\"span\")[0].text\n",
    "        date = all_info.find(\"span\", attrs={\"ng-bind\":\"::note.publish_at | date:'yyyy/MM/dd HH:mm'\"}).text\n",
    "        like_tag = all_info.find(\"div\", attrs={\"class\":\"renewal-p-action__count\"})\n",
    "        like = like_tag.text if like_tag else \"N/A\"\n",
    "        link = all_info.find(\"a\", attrs={\"ng-if\":\"$ctrl.linkMethod == 'state' && !$ctrl.analytics\"}).get(\"href\")\n",
    "\n",
    "        article_no = article_no + 1\n",
    "        Tech_articles[article_no] = [title, user, date, like, link]\n",
    "\n",
    "print(\"Total number of Tech articles in note\", article_no)\n",
    "Tech_articles_df = pd.DataFrame.from_dict(Tech_articles, orient = \"index\", columns = [\"title\", \"user\", \"date\", \"like\", \"link\"])\n",
    "Tech_articles_df.to_csv(\"note_tech_articles.csv\")"
   ]
  },
  {
   "cell_type": "code",
   "execution_count": null,
   "metadata": {},
   "outputs": [],
   "source": [
    "Tech_articles_df.head()"
   ]
  },
  {
   "cell_type": "code",
   "execution_count": null,
   "metadata": {},
   "outputs": [],
   "source": []
  }
 ],
 "metadata": {
  "kernelspec": {
   "display_name": "Python 3",
   "language": "python",
   "name": "python3"
  },
  "language_info": {
   "codemirror_mode": {
    "name": "ipython",
    "version": 3
   },
   "file_extension": ".py",
   "mimetype": "text/x-python",
   "name": "python",
   "nbconvert_exporter": "python",
   "pygments_lexer": "ipython3",
   "version": "3.7.1"
  }
 },
 "nbformat": 4,
 "nbformat_minor": 2
}
